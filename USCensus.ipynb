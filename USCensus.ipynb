{
 "cells": [
  {
   "cell_type": "code",
   "execution_count": 6,
   "metadata": {
    "collapsed": true
   },
   "outputs": [],
   "source": [
    "import pandas as pd\n",
    "import numpy as np\n",
    "\n",
    "from sklearn.ensemble import GradientBoostingClassifier\n",
    "from sklearn.model_selection import train_test_split, GridSearchCV\n",
    "from sklearn.preprocessing import OrdinalEncoder, LabelEncoder\n",
    "from sklearn.metrics import accuracy_score, f1_score, make_scorer, confusion_matrix, plot_roc_curve\n",
    "\n",
    "from copy import copy\n",
    "\n",
    "from time import time"
   ]
  },
  {
   "cell_type": "code",
   "execution_count": 2,
   "metadata": {
    "pycharm": {
     "name": "#%%\n"
    }
   },
   "outputs": [],
   "source": [
    "df = pd.read_csv('data/us census data.csv')"
   ]
  },
  {
   "cell_type": "code",
   "execution_count": 3,
   "metadata": {
    "pycharm": {
     "name": "#%%\n"
    },
    "scrolled": true
   },
   "outputs": [
    {
     "data": {
      "text/plain": "   age         workclass  fnlwgt  education      marital-status  \\\n0   39         State-gov   77516  Bachelors       Never-married   \n1   50  Self-emp-not-inc   83311  Bachelors  Married-civ-spouse   \n2   38           Private  215646    HS-grad            Divorced   \n3   53           Private  234721       11th  Married-civ-spouse   \n4   28           Private  338409  Bachelors  Married-civ-spouse   \n\n          occupation   relationship   race     sex  hours-per-week  \\\n0       Adm-clerical  Not-in-family  White    Male              40   \n1    Exec-managerial        Husband  White    Male              13   \n2  Handlers-cleaners  Not-in-family  White    Male              40   \n3  Handlers-cleaners        Husband  Black    Male              40   \n4     Prof-specialty           Wife  Black  Female              40   \n\n  native-country  capital income  \n0  United-States     2174  <=50K  \n1  United-States        0  <=50K  \n2  United-States        0  <=50K  \n3  United-States        0  <=50K  \n4           Cuba        0  <=50K  ",
      "text/html": "<div>\n<style scoped>\n    .dataframe tbody tr th:only-of-type {\n        vertical-align: middle;\n    }\n\n    .dataframe tbody tr th {\n        vertical-align: top;\n    }\n\n    .dataframe thead th {\n        text-align: right;\n    }\n</style>\n<table border=\"1\" class=\"dataframe\">\n  <thead>\n    <tr style=\"text-align: right;\">\n      <th></th>\n      <th>age</th>\n      <th>workclass</th>\n      <th>fnlwgt</th>\n      <th>education</th>\n      <th>marital-status</th>\n      <th>occupation</th>\n      <th>relationship</th>\n      <th>race</th>\n      <th>sex</th>\n      <th>hours-per-week</th>\n      <th>native-country</th>\n      <th>capital</th>\n      <th>income</th>\n    </tr>\n  </thead>\n  <tbody>\n    <tr>\n      <th>0</th>\n      <td>39</td>\n      <td>State-gov</td>\n      <td>77516</td>\n      <td>Bachelors</td>\n      <td>Never-married</td>\n      <td>Adm-clerical</td>\n      <td>Not-in-family</td>\n      <td>White</td>\n      <td>Male</td>\n      <td>40</td>\n      <td>United-States</td>\n      <td>2174</td>\n      <td>&lt;=50K</td>\n    </tr>\n    <tr>\n      <th>1</th>\n      <td>50</td>\n      <td>Self-emp-not-inc</td>\n      <td>83311</td>\n      <td>Bachelors</td>\n      <td>Married-civ-spouse</td>\n      <td>Exec-managerial</td>\n      <td>Husband</td>\n      <td>White</td>\n      <td>Male</td>\n      <td>13</td>\n      <td>United-States</td>\n      <td>0</td>\n      <td>&lt;=50K</td>\n    </tr>\n    <tr>\n      <th>2</th>\n      <td>38</td>\n      <td>Private</td>\n      <td>215646</td>\n      <td>HS-grad</td>\n      <td>Divorced</td>\n      <td>Handlers-cleaners</td>\n      <td>Not-in-family</td>\n      <td>White</td>\n      <td>Male</td>\n      <td>40</td>\n      <td>United-States</td>\n      <td>0</td>\n      <td>&lt;=50K</td>\n    </tr>\n    <tr>\n      <th>3</th>\n      <td>53</td>\n      <td>Private</td>\n      <td>234721</td>\n      <td>11th</td>\n      <td>Married-civ-spouse</td>\n      <td>Handlers-cleaners</td>\n      <td>Husband</td>\n      <td>Black</td>\n      <td>Male</td>\n      <td>40</td>\n      <td>United-States</td>\n      <td>0</td>\n      <td>&lt;=50K</td>\n    </tr>\n    <tr>\n      <th>4</th>\n      <td>28</td>\n      <td>Private</td>\n      <td>338409</td>\n      <td>Bachelors</td>\n      <td>Married-civ-spouse</td>\n      <td>Prof-specialty</td>\n      <td>Wife</td>\n      <td>Black</td>\n      <td>Female</td>\n      <td>40</td>\n      <td>Cuba</td>\n      <td>0</td>\n      <td>&lt;=50K</td>\n    </tr>\n  </tbody>\n</table>\n</div>"
     },
     "execution_count": 3,
     "metadata": {},
     "output_type": "execute_result"
    }
   ],
   "source": [
    "df.head()"
   ]
  },
  {
   "cell_type": "code",
   "execution_count": 4,
   "metadata": {
    "pycharm": {
     "name": "#%%\n"
    }
   },
   "outputs": [
    {
     "data": {
      "text/plain": "                  count unique                 top   freq           mean  \\\nage             48842.0    NaN                 NaN    NaN      38.643585   \nworkclass         48842      7             Private  33906            NaN   \nfnlwgt          48842.0    NaN                 NaN    NaN  189664.134597   \neducation         48842     16             HS-grad  15784            NaN   \nmarital-status    48842      7  Married-civ-spouse  22379            NaN   \noccupation        48842     15      Prof-specialty   6172            NaN   \nrelationship      48842      6             Husband  19716            NaN   \nrace              48842      5               White  41762            NaN   \nsex               48842      2                Male  32650            NaN   \nhours-per-week  48842.0    NaN                 NaN    NaN      40.422382   \nnative-country    48842     42       United-States  43832            NaN   \ncapital         48842.0    NaN                 NaN    NaN     991.565313   \nincome            48842      2               <=50K  37155            NaN   \n\n                          std      min       25%       50%       75%  \\\nage                  13.71051     17.0      28.0      37.0      48.0   \nworkclass                 NaN      NaN       NaN       NaN       NaN   \nfnlwgt          105604.025423  12285.0  117550.5  178144.5  237642.0   \neducation                 NaN      NaN       NaN       NaN       NaN   \nmarital-status            NaN      NaN       NaN       NaN       NaN   \noccupation                NaN      NaN       NaN       NaN       NaN   \nrelationship              NaN      NaN       NaN       NaN       NaN   \nrace                      NaN      NaN       NaN       NaN       NaN   \nsex                       NaN      NaN       NaN       NaN       NaN   \nhours-per-week      12.391444      1.0      40.0      40.0      45.0   \nnative-country            NaN      NaN       NaN       NaN       NaN   \ncapital           7475.549906  -4356.0       0.0       0.0       0.0   \nincome                    NaN      NaN       NaN       NaN       NaN   \n\n                      max  \nage                  90.0  \nworkclass             NaN  \nfnlwgt          1490400.0  \neducation             NaN  \nmarital-status        NaN  \noccupation            NaN  \nrelationship          NaN  \nrace                  NaN  \nsex                   NaN  \nhours-per-week       99.0  \nnative-country        NaN  \ncapital           99999.0  \nincome                NaN  ",
      "text/html": "<div>\n<style scoped>\n    .dataframe tbody tr th:only-of-type {\n        vertical-align: middle;\n    }\n\n    .dataframe tbody tr th {\n        vertical-align: top;\n    }\n\n    .dataframe thead th {\n        text-align: right;\n    }\n</style>\n<table border=\"1\" class=\"dataframe\">\n  <thead>\n    <tr style=\"text-align: right;\">\n      <th></th>\n      <th>count</th>\n      <th>unique</th>\n      <th>top</th>\n      <th>freq</th>\n      <th>mean</th>\n      <th>std</th>\n      <th>min</th>\n      <th>25%</th>\n      <th>50%</th>\n      <th>75%</th>\n      <th>max</th>\n    </tr>\n  </thead>\n  <tbody>\n    <tr>\n      <th>age</th>\n      <td>48842.0</td>\n      <td>NaN</td>\n      <td>NaN</td>\n      <td>NaN</td>\n      <td>38.643585</td>\n      <td>13.71051</td>\n      <td>17.0</td>\n      <td>28.0</td>\n      <td>37.0</td>\n      <td>48.0</td>\n      <td>90.0</td>\n    </tr>\n    <tr>\n      <th>workclass</th>\n      <td>48842</td>\n      <td>7</td>\n      <td>Private</td>\n      <td>33906</td>\n      <td>NaN</td>\n      <td>NaN</td>\n      <td>NaN</td>\n      <td>NaN</td>\n      <td>NaN</td>\n      <td>NaN</td>\n      <td>NaN</td>\n    </tr>\n    <tr>\n      <th>fnlwgt</th>\n      <td>48842.0</td>\n      <td>NaN</td>\n      <td>NaN</td>\n      <td>NaN</td>\n      <td>189664.134597</td>\n      <td>105604.025423</td>\n      <td>12285.0</td>\n      <td>117550.5</td>\n      <td>178144.5</td>\n      <td>237642.0</td>\n      <td>1490400.0</td>\n    </tr>\n    <tr>\n      <th>education</th>\n      <td>48842</td>\n      <td>16</td>\n      <td>HS-grad</td>\n      <td>15784</td>\n      <td>NaN</td>\n      <td>NaN</td>\n      <td>NaN</td>\n      <td>NaN</td>\n      <td>NaN</td>\n      <td>NaN</td>\n      <td>NaN</td>\n    </tr>\n    <tr>\n      <th>marital-status</th>\n      <td>48842</td>\n      <td>7</td>\n      <td>Married-civ-spouse</td>\n      <td>22379</td>\n      <td>NaN</td>\n      <td>NaN</td>\n      <td>NaN</td>\n      <td>NaN</td>\n      <td>NaN</td>\n      <td>NaN</td>\n      <td>NaN</td>\n    </tr>\n    <tr>\n      <th>occupation</th>\n      <td>48842</td>\n      <td>15</td>\n      <td>Prof-specialty</td>\n      <td>6172</td>\n      <td>NaN</td>\n      <td>NaN</td>\n      <td>NaN</td>\n      <td>NaN</td>\n      <td>NaN</td>\n      <td>NaN</td>\n      <td>NaN</td>\n    </tr>\n    <tr>\n      <th>relationship</th>\n      <td>48842</td>\n      <td>6</td>\n      <td>Husband</td>\n      <td>19716</td>\n      <td>NaN</td>\n      <td>NaN</td>\n      <td>NaN</td>\n      <td>NaN</td>\n      <td>NaN</td>\n      <td>NaN</td>\n      <td>NaN</td>\n    </tr>\n    <tr>\n      <th>race</th>\n      <td>48842</td>\n      <td>5</td>\n      <td>White</td>\n      <td>41762</td>\n      <td>NaN</td>\n      <td>NaN</td>\n      <td>NaN</td>\n      <td>NaN</td>\n      <td>NaN</td>\n      <td>NaN</td>\n      <td>NaN</td>\n    </tr>\n    <tr>\n      <th>sex</th>\n      <td>48842</td>\n      <td>2</td>\n      <td>Male</td>\n      <td>32650</td>\n      <td>NaN</td>\n      <td>NaN</td>\n      <td>NaN</td>\n      <td>NaN</td>\n      <td>NaN</td>\n      <td>NaN</td>\n      <td>NaN</td>\n    </tr>\n    <tr>\n      <th>hours-per-week</th>\n      <td>48842.0</td>\n      <td>NaN</td>\n      <td>NaN</td>\n      <td>NaN</td>\n      <td>40.422382</td>\n      <td>12.391444</td>\n      <td>1.0</td>\n      <td>40.0</td>\n      <td>40.0</td>\n      <td>45.0</td>\n      <td>99.0</td>\n    </tr>\n    <tr>\n      <th>native-country</th>\n      <td>48842</td>\n      <td>42</td>\n      <td>United-States</td>\n      <td>43832</td>\n      <td>NaN</td>\n      <td>NaN</td>\n      <td>NaN</td>\n      <td>NaN</td>\n      <td>NaN</td>\n      <td>NaN</td>\n      <td>NaN</td>\n    </tr>\n    <tr>\n      <th>capital</th>\n      <td>48842.0</td>\n      <td>NaN</td>\n      <td>NaN</td>\n      <td>NaN</td>\n      <td>991.565313</td>\n      <td>7475.549906</td>\n      <td>-4356.0</td>\n      <td>0.0</td>\n      <td>0.0</td>\n      <td>0.0</td>\n      <td>99999.0</td>\n    </tr>\n    <tr>\n      <th>income</th>\n      <td>48842</td>\n      <td>2</td>\n      <td>&lt;=50K</td>\n      <td>37155</td>\n      <td>NaN</td>\n      <td>NaN</td>\n      <td>NaN</td>\n      <td>NaN</td>\n      <td>NaN</td>\n      <td>NaN</td>\n      <td>NaN</td>\n    </tr>\n  </tbody>\n</table>\n</div>"
     },
     "execution_count": 4,
     "metadata": {},
     "output_type": "execute_result"
    }
   ],
   "source": [
    "df.describe(include='all').transpose()"
   ]
  },
  {
   "cell_type": "code",
   "execution_count": 5,
   "outputs": [],
   "source": [
    "X = df.iloc[:,:-1]\n",
    "y = df.iloc[:,-1]\n",
    "\n",
    "ordinal_encoder = OrdinalEncoder(dtype=int)\n",
    "label_encoder = LabelEncoder()\n",
    "\n",
    "X_cat = X.iloc[:,np.where(X.dtypes == object)[0]]\n",
    "\n",
    "X_enc_cat = ordinal_encoder.fit_transform(X_cat)\n",
    "X_enc = copy(X)\n",
    "X_enc.iloc[:,np.where(X.dtypes == object)[0]] = X_enc_cat\n",
    "y_enc = label_encoder.fit_transform(y)\n",
    "\n",
    "X_train, X_test, y_train, y_test = train_test_split(X,y,test_size=0.2, random_state=1)\n",
    "X_train_enc, X_test_enc, y_train_enc, y_test_enc = train_test_split(X_enc,y_enc,test_size=0.2, random_state=1)"
   ],
   "metadata": {
    "collapsed": false,
    "pycharm": {
     "name": "#%%\n"
    }
   }
  },
  {
   "cell_type": "code",
   "execution_count": 262,
   "outputs": [],
   "source": [
    "scoring = {'accuracy': make_scorer(accuracy_score),\n",
    "           'f1': make_scorer(f1_score)}\n",
    "\n",
    "parameters = {\n",
    "    \"learning_rate\": [0.01,0.05,0.1],\n",
    "    \"max_depth\":[2,3,4,5],\n",
    "    \"n_estimators\": np.linspace(100,500,9,dtype=int)\n",
    "}\n",
    "clf = GridSearchCV(GradientBoostingClassifier(), parameters,scoring=scoring,refit=False,cv=5, n_jobs=-1)\n",
    "\n",
    "clf.fit(X_train_enc, y_train_enc)\n",
    "df=pd.DataFrame.from_dict(clf.cv_results_)"
   ],
   "metadata": {
    "collapsed": false,
    "pycharm": {
     "name": "#%%\n"
    }
   }
  },
  {
   "cell_type": "code",
   "execution_count": 263,
   "outputs": [
    {
     "data": {
      "text/plain": "{'learning_rate': 0.1, 'max_depth': 4, 'n_estimators': 350}"
     },
     "execution_count": 263,
     "metadata": {},
     "output_type": "execute_result"
    }
   ],
   "source": [
    "df.loc[df['mean_test_accuracy'].idxmax()]['params']"
   ],
   "metadata": {
    "collapsed": false,
    "pycharm": {
     "name": "#%%\n"
    }
   }
  },
  {
   "cell_type": "code",
   "execution_count": 8,
   "metadata": {
    "pycharm": {
     "name": "#%%\n"
    }
   },
   "outputs": [
    {
     "name": "stdout",
     "output_type": "stream",
     "text": [
      "Fitting time:  19.50012445449829\n"
     ]
    },
    {
     "data": {
      "text/plain": "0.8709182106663937"
     },
     "execution_count": 8,
     "metadata": {},
     "output_type": "execute_result"
    }
   ],
   "source": [
    "start = time()\n",
    "clf = GradientBoostingClassifier(learning_rate=0.1,max_depth=4,n_estimators=350)\n",
    "clf.fit(X_train_enc,y_train_enc)\n",
    "end = time()\n",
    "print(\"Fitting time: \",end-start)\n",
    "y_pred = clf.predict(X_test_enc)\n",
    "accuracy_score(y_test_enc,y_pred)"
   ]
  },
  {
   "cell_type": "code",
   "execution_count": 70,
   "metadata": {
    "pycharm": {
     "name": "#%%\n"
    }
   },
   "outputs": [
    {
     "data": {
      "text/plain": "<sklearn.metrics._plot.roc_curve.RocCurveDisplay at 0x27774b07460>"
     },
     "execution_count": 70,
     "metadata": {},
     "output_type": "execute_result"
    },
    {
     "data": {
      "text/plain": "<Figure size 432x288 with 1 Axes>",
      "image/png": "[encoded data removed]"
     },
     "metadata": {
      "needs_background": "light"
     },
     "output_type": "display_data"
    }
   ],
   "source": [
    "plot_roc_curve(clf,X_test_enc,y_test_enc)"
   ]
  },
  {
   "cell_type": "code",
   "execution_count": 71,
   "metadata": {
    "pycharm": {
     "name": "#%%\n"
    }
   },
   "outputs": [
    {
     "data": {
      "text/plain": "array([[0.94131898, 0.05868102],\n       [0.35271484, 0.64728516]])"
     },
     "execution_count": 71,
     "metadata": {},
     "output_type": "execute_result"
    }
   ],
   "source": [
    "confusion_matrix(y_test_enc,y_pred,normalize='true')"
   ]
  },
  {
   "cell_type": "code",
   "execution_count": 9,
   "metadata": {
    "pycharm": {
     "name": "#%%\n"
    }
   },
   "outputs": [],
   "source": [
    "import catboost as cb"
   ]
  },
  {
   "cell_type": "code",
   "execution_count": 233,
   "metadata": {
    "pycharm": {
     "name": "#%%\n"
    }
   },
   "outputs": [
    {
     "name": "stderr",
     "output_type": "stream",
     "text": [
      "Custom logger is already specified. Specify more than one logger at same time is not thread safe."
     ]
    },
    {
     "data": {
      "application/vnd.jupyter.widget-view+json": {
       "model_id": "3765e781871b43fd8d0e49c012aae645",
       "version_major": 2,
       "version_minor": 0
      },
      "text/plain": [
       "MetricVisualizer(layout=Layout(align_self='stretch', height='500px'))"
      ]
     },
     "metadata": {},
     "output_type": "display_data"
    }
   ],
   "source": [
    "model = cb.CatBoostClassifier(logging_level='Silent',eval_metric = 'Accuracy',cat_features=[1,3,4,5,6,7,8,10])\n",
    "\n",
    "grid = {\n",
    "        'depth': [2, 3, 4, 5],\n",
    "        'n_estimators': np.linspace(100,1000,9,dtype=int)\n",
    "        }\n",
    "\n",
    "grid_search_result = model.grid_search(grid,\n",
    "                                       X=X_train,\n",
    "                                       y=y_train,\n",
    "                                       cv=5,\n",
    "                                       verbose=False,\n",
    "                                       plot=True\n",
    "                                       )"
   ]
  },
  {
   "cell_type": "code",
   "execution_count": 234,
   "metadata": {
    "pycharm": {
     "name": "#%%\n"
    }
   },
   "outputs": [
    {
     "data": {
      "text/plain": [
       "{'depth': 4, 'iterations': 1000}"
      ]
     },
     "execution_count": 234,
     "metadata": {},
     "output_type": "execute_result"
    }
   ],
   "source": [
    "grid_search_result['params']"
   ]
  },
  {
   "cell_type": "code",
   "execution_count": 10,
   "metadata": {
    "pycharm": {
     "name": "#%%\n"
    }
   },
   "outputs": [],
   "source": [
    "cat_features_indices = np.where(X_train.dtypes == object)[0]\n",
    "train_dataset = cb.Pool(X_train,y_train,cat_features=cat_features_indices)\n",
    "test_dataset = cb.Pool(X_test,y_test,cat_features=cat_features_indices)"
   ]
  },
  {
   "cell_type": "code",
   "execution_count": 14,
   "metadata": {
    "pycharm": {
     "name": "#%%\n"
    }
   },
   "outputs": [
    {
     "name": "stdout",
     "output_type": "stream",
     "text": [
      "Fitting time:  1.9439704418182373\n"
     ]
    }
   ],
   "source": [
    "start = time()\n",
    "model = cb.CatBoostClassifier(logging_level='Silent',\n",
    "                              cat_features=cat_features_indices,\n",
    "                              depth=3,\n",
    "                              iterations=100,\n",
    "                              learning_rate=1.0,\n",
    "                              eval_metric='Accuracy'\n",
    "                              )\n",
    "model.fit(train_dataset,eval_set=test_dataset,plot=False)\n",
    "end = time()\n",
    "print(\"Fitting time: \",end-start)"
   ]
  },
  {
   "cell_type": "code",
   "execution_count": 15,
   "metadata": {
    "pycharm": {
     "name": "#%%\n"
    }
   },
   "outputs": [
    {
     "name": "stdout",
     "output_type": "stream",
     "text": [
      "{'learn': {'Accuracy': 0.8784070841757735, 'Logloss': 0.2700227796082597}, 'validation': {'Accuracy': 0.871839492271471, 'Logloss': 0.2800103775102453}}\n"
     ]
    }
   ],
   "source": [
    "print(model.get_best_score())"
   ]
  },
  {
   "cell_type": "markdown",
   "source": [
    "# Catboost faster"
   ],
   "metadata": {
    "collapsed": false
   }
  },
  {
   "cell_type": "code",
   "execution_count": null,
   "outputs": [],
   "source": [],
   "metadata": {
    "collapsed": false,
    "pycharm": {
     "name": "#%%\n"
    }
   }
  }
 ],
 "metadata": {
  "kernelspec": {
   "display_name": "Python 3",
   "language": "python",
   "name": "python3"
  },
  "language_info": {
   "codemirror_mode": {
    "name": "ipython",
    "version": 3
   },
   "file_extension": ".py",
   "mimetype": "text/x-python",
   "name": "python",
   "nbconvert_exporter": "python",
   "pygments_lexer": "ipython3",
   "version": "3.8.8"
  }
 },
 "nbformat": 4,
 "nbformat_minor": 1
}