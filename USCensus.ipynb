{
 "cells": [
  {
   "cell_type": "code",
   "execution_count": 17,
   "metadata": {},
   "outputs": [],
   "source": [
    "import pandas as pd\n",
    "import numpy as np\n",
    "\n",
    "from sklearn.ensemble import GradientBoostingClassifier\n",
    "from sklearn.model_selection import train_test_split, GridSearchCV\n",
    "from sklearn.preprocessing import OrdinalEncoder, LabelEncoder\n",
    "from sklearn.metrics import accuracy_score, f1_score, make_scorer, confusion_matrix, plot_roc_curve, plot_confusion_matrix\n",
    "\n",
    "from copy import copy\n",
    "\n",
    "from time import time\n",
    "\n",
    "import matplotlib.pyplot as plt\n",
    "import category_encoders as ce"
   ]
  },
  {
   "cell_type": "code",
   "execution_count": 18,
   "metadata": {
    "pycharm": {
     "name": "#%%\n"
    }
   },
   "outputs": [],
   "source": [
    "df = pd.read_csv('data/us census data.csv')\n",
    "df = df.replace(\"?\",\"Other\")"
   ]
  },
  {
   "cell_type": "code",
   "execution_count": 19,
   "metadata": {
    "pycharm": {
     "name": "#%%\n"
    }
   },
   "outputs": [
    {
     "data": {
      "text/plain": "   age         workclass  fnlwgt  education      marital-status  \\\n0   39         State-gov   77516  Bachelors       Never-married   \n1   50  Self-emp-not-inc   83311  Bachelors  Married-civ-spouse   \n2   38           Private  215646    HS-grad            Divorced   \n3   53           Private  234721       11th  Married-civ-spouse   \n4   28           Private  338409  Bachelors  Married-civ-spouse   \n\n          occupation   relationship   race     sex  hours-per-week  \\\n0       Adm-clerical  Not-in-family  White    Male              40   \n1    Exec-managerial        Husband  White    Male              13   \n2  Handlers-cleaners  Not-in-family  White    Male              40   \n3  Handlers-cleaners        Husband  Black    Male              40   \n4     Prof-specialty           Wife  Black  Female              40   \n\n  native-country  capital income  \n0  United-States     2174  <=50K  \n1  United-States        0  <=50K  \n2  United-States        0  <=50K  \n3  United-States        0  <=50K  \n4           Cuba        0  <=50K  ",
      "text/html": "<div>\n<style scoped>\n    .dataframe tbody tr th:only-of-type {\n        vertical-align: middle;\n    }\n\n    .dataframe tbody tr th {\n        vertical-align: top;\n    }\n\n    .dataframe thead th {\n        text-align: right;\n    }\n</style>\n<table border=\"1\" class=\"dataframe\">\n  <thead>\n    <tr style=\"text-align: right;\">\n      <th></th>\n      <th>age</th>\n      <th>workclass</th>\n      <th>fnlwgt</th>\n      <th>education</th>\n      <th>marital-status</th>\n      <th>occupation</th>\n      <th>relationship</th>\n      <th>race</th>\n      <th>sex</th>\n      <th>hours-per-week</th>\n      <th>native-country</th>\n      <th>capital</th>\n      <th>income</th>\n    </tr>\n  </thead>\n  <tbody>\n    <tr>\n      <th>0</th>\n      <td>39</td>\n      <td>State-gov</td>\n      <td>77516</td>\n      <td>Bachelors</td>\n      <td>Never-married</td>\n      <td>Adm-clerical</td>\n      <td>Not-in-family</td>\n      <td>White</td>\n      <td>Male</td>\n      <td>40</td>\n      <td>United-States</td>\n      <td>2174</td>\n      <td>&lt;=50K</td>\n    </tr>\n    <tr>\n      <th>1</th>\n      <td>50</td>\n      <td>Self-emp-not-inc</td>\n      <td>83311</td>\n      <td>Bachelors</td>\n      <td>Married-civ-spouse</td>\n      <td>Exec-managerial</td>\n      <td>Husband</td>\n      <td>White</td>\n      <td>Male</td>\n      <td>13</td>\n      <td>United-States</td>\n      <td>0</td>\n      <td>&lt;=50K</td>\n    </tr>\n    <tr>\n      <th>2</th>\n      <td>38</td>\n      <td>Private</td>\n      <td>215646</td>\n      <td>HS-grad</td>\n      <td>Divorced</td>\n      <td>Handlers-cleaners</td>\n      <td>Not-in-family</td>\n      <td>White</td>\n      <td>Male</td>\n      <td>40</td>\n      <td>United-States</td>\n      <td>0</td>\n      <td>&lt;=50K</td>\n    </tr>\n    <tr>\n      <th>3</th>\n      <td>53</td>\n      <td>Private</td>\n      <td>234721</td>\n      <td>11th</td>\n      <td>Married-civ-spouse</td>\n      <td>Handlers-cleaners</td>\n      <td>Husband</td>\n      <td>Black</td>\n      <td>Male</td>\n      <td>40</td>\n      <td>United-States</td>\n      <td>0</td>\n      <td>&lt;=50K</td>\n    </tr>\n    <tr>\n      <th>4</th>\n      <td>28</td>\n      <td>Private</td>\n      <td>338409</td>\n      <td>Bachelors</td>\n      <td>Married-civ-spouse</td>\n      <td>Prof-specialty</td>\n      <td>Wife</td>\n      <td>Black</td>\n      <td>Female</td>\n      <td>40</td>\n      <td>Cuba</td>\n      <td>0</td>\n      <td>&lt;=50K</td>\n    </tr>\n  </tbody>\n</table>\n</div>"
     },
     "execution_count": 19,
     "metadata": {},
     "output_type": "execute_result"
    }
   ],
   "source": [
    "df.head()"
   ]
  },
  {
   "cell_type": "code",
   "execution_count": 20,
   "metadata": {
    "pycharm": {
     "name": "#%%\n"
    }
   },
   "outputs": [
    {
     "data": {
      "text/plain": "                  count unique                 top   freq           mean  \\\nage             48842.0    NaN                 NaN    NaN      38.643585   \nworkclass         48842      7             Private  33906            NaN   \nfnlwgt          48842.0    NaN                 NaN    NaN  189664.134597   \neducation         48842     16             HS-grad  15784            NaN   \nmarital-status    48842      7  Married-civ-spouse  22379            NaN   \noccupation        48842     15      Prof-specialty   6172            NaN   \nrelationship      48842      6             Husband  19716            NaN   \nrace              48842      5               White  41762            NaN   \nsex               48842      2                Male  32650            NaN   \nhours-per-week  48842.0    NaN                 NaN    NaN      40.422382   \nnative-country    48842     42       United-States  43832            NaN   \ncapital         48842.0    NaN                 NaN    NaN     991.565313   \nincome            48842      2               <=50K  37155            NaN   \n\n                          std      min       25%       50%       75%  \\\nage                  13.71051     17.0      28.0      37.0      48.0   \nworkclass                 NaN      NaN       NaN       NaN       NaN   \nfnlwgt          105604.025423  12285.0  117550.5  178144.5  237642.0   \neducation                 NaN      NaN       NaN       NaN       NaN   \nmarital-status            NaN      NaN       NaN       NaN       NaN   \noccupation                NaN      NaN       NaN       NaN       NaN   \nrelationship              NaN      NaN       NaN       NaN       NaN   \nrace                      NaN      NaN       NaN       NaN       NaN   \nsex                       NaN      NaN       NaN       NaN       NaN   \nhours-per-week      12.391444      1.0      40.0      40.0      45.0   \nnative-country            NaN      NaN       NaN       NaN       NaN   \ncapital           7475.549906  -4356.0       0.0       0.0       0.0   \nincome                    NaN      NaN       NaN       NaN       NaN   \n\n                      max  \nage                  90.0  \nworkclass             NaN  \nfnlwgt          1490400.0  \neducation             NaN  \nmarital-status        NaN  \noccupation            NaN  \nrelationship          NaN  \nrace                  NaN  \nsex                   NaN  \nhours-per-week       99.0  \nnative-country        NaN  \ncapital           99999.0  \nincome                NaN  ",
      "text/html": "<div>\n<style scoped>\n    .dataframe tbody tr th:only-of-type {\n        vertical-align: middle;\n    }\n\n    .dataframe tbody tr th {\n        vertical-align: top;\n    }\n\n    .dataframe thead th {\n        text-align: right;\n    }\n</style>\n<table border=\"1\" class=\"dataframe\">\n  <thead>\n    <tr style=\"text-align: right;\">\n      <th></th>\n      <th>count</th>\n      <th>unique</th>\n      <th>top</th>\n      <th>freq</th>\n      <th>mean</th>\n      <th>std</th>\n      <th>min</th>\n      <th>25%</th>\n      <th>50%</th>\n      <th>75%</th>\n      <th>max</th>\n    </tr>\n  </thead>\n  <tbody>\n    <tr>\n      <th>age</th>\n      <td>48842.0</td>\n      <td>NaN</td>\n      <td>NaN</td>\n      <td>NaN</td>\n      <td>38.643585</td>\n      <td>13.71051</td>\n      <td>17.0</td>\n      <td>28.0</td>\n      <td>37.0</td>\n      <td>48.0</td>\n      <td>90.0</td>\n    </tr>\n    <tr>\n      <th>workclass</th>\n      <td>48842</td>\n      <td>7</td>\n      <td>Private</td>\n      <td>33906</td>\n      <td>NaN</td>\n      <td>NaN</td>\n      <td>NaN</td>\n      <td>NaN</td>\n      <td>NaN</td>\n      <td>NaN</td>\n      <td>NaN</td>\n    </tr>\n    <tr>\n      <th>fnlwgt</th>\n      <td>48842.0</td>\n      <td>NaN</td>\n      <td>NaN</td>\n      <td>NaN</td>\n      <td>189664.134597</td>\n      <td>105604.025423</td>\n      <td>12285.0</td>\n      <td>117550.5</td>\n      <td>178144.5</td>\n      <td>237642.0</td>\n      <td>1490400.0</td>\n    </tr>\n    <tr>\n      <th>education</th>\n      <td>48842</td>\n      <td>16</td>\n      <td>HS-grad</td>\n      <td>15784</td>\n      <td>NaN</td>\n      <td>NaN</td>\n      <td>NaN</td>\n      <td>NaN</td>\n      <td>NaN</td>\n      <td>NaN</td>\n      <td>NaN</td>\n    </tr>\n    <tr>\n      <th>marital-status</th>\n      <td>48842</td>\n      <td>7</td>\n      <td>Married-civ-spouse</td>\n      <td>22379</td>\n      <td>NaN</td>\n      <td>NaN</td>\n      <td>NaN</td>\n      <td>NaN</td>\n      <td>NaN</td>\n      <td>NaN</td>\n      <td>NaN</td>\n    </tr>\n    <tr>\n      <th>occupation</th>\n      <td>48842</td>\n      <td>15</td>\n      <td>Prof-specialty</td>\n      <td>6172</td>\n      <td>NaN</td>\n      <td>NaN</td>\n      <td>NaN</td>\n      <td>NaN</td>\n      <td>NaN</td>\n      <td>NaN</td>\n      <td>NaN</td>\n    </tr>\n    <tr>\n      <th>relationship</th>\n      <td>48842</td>\n      <td>6</td>\n      <td>Husband</td>\n      <td>19716</td>\n      <td>NaN</td>\n      <td>NaN</td>\n      <td>NaN</td>\n      <td>NaN</td>\n      <td>NaN</td>\n      <td>NaN</td>\n      <td>NaN</td>\n    </tr>\n    <tr>\n      <th>race</th>\n      <td>48842</td>\n      <td>5</td>\n      <td>White</td>\n      <td>41762</td>\n      <td>NaN</td>\n      <td>NaN</td>\n      <td>NaN</td>\n      <td>NaN</td>\n      <td>NaN</td>\n      <td>NaN</td>\n      <td>NaN</td>\n    </tr>\n    <tr>\n      <th>sex</th>\n      <td>48842</td>\n      <td>2</td>\n      <td>Male</td>\n      <td>32650</td>\n      <td>NaN</td>\n      <td>NaN</td>\n      <td>NaN</td>\n      <td>NaN</td>\n      <td>NaN</td>\n      <td>NaN</td>\n      <td>NaN</td>\n    </tr>\n    <tr>\n      <th>hours-per-week</th>\n      <td>48842.0</td>\n      <td>NaN</td>\n      <td>NaN</td>\n      <td>NaN</td>\n      <td>40.422382</td>\n      <td>12.391444</td>\n      <td>1.0</td>\n      <td>40.0</td>\n      <td>40.0</td>\n      <td>45.0</td>\n      <td>99.0</td>\n    </tr>\n    <tr>\n      <th>native-country</th>\n      <td>48842</td>\n      <td>42</td>\n      <td>United-States</td>\n      <td>43832</td>\n      <td>NaN</td>\n      <td>NaN</td>\n      <td>NaN</td>\n      <td>NaN</td>\n      <td>NaN</td>\n      <td>NaN</td>\n      <td>NaN</td>\n    </tr>\n    <tr>\n      <th>capital</th>\n      <td>48842.0</td>\n      <td>NaN</td>\n      <td>NaN</td>\n      <td>NaN</td>\n      <td>991.565313</td>\n      <td>7475.549906</td>\n      <td>-4356.0</td>\n      <td>0.0</td>\n      <td>0.0</td>\n      <td>0.0</td>\n      <td>99999.0</td>\n    </tr>\n    <tr>\n      <th>income</th>\n      <td>48842</td>\n      <td>2</td>\n      <td>&lt;=50K</td>\n      <td>37155</td>\n      <td>NaN</td>\n      <td>NaN</td>\n      <td>NaN</td>\n      <td>NaN</td>\n      <td>NaN</td>\n      <td>NaN</td>\n      <td>NaN</td>\n    </tr>\n  </tbody>\n</table>\n</div>"
     },
     "execution_count": 20,
     "metadata": {},
     "output_type": "execute_result"
    }
   ],
   "source": [
    "df.describe(include='all').transpose()"
   ]
  },
  {
   "cell_type": "code",
   "execution_count": 21,
   "outputs": [],
   "source": [
    "cat_df = copy(df)\n",
    "cat_df.iloc[:,np.where(cat_df.dtypes == object)[0]] = cat_df.iloc[:,np.where(cat_df.dtypes == object)[0]].astype('category')"
   ],
   "metadata": {
    "collapsed": false,
    "pycharm": {
     "name": "#%%\n"
    }
   }
  },
  {
   "cell_type": "code",
   "execution_count": 22,
   "metadata": {
    "pycharm": {
     "name": "#%%\n"
    }
   },
   "outputs": [],
   "source": [
    "X = cat_df.iloc[:,:-1]\n",
    "y = cat_df.iloc[:,-1]\n",
    "\n",
    "ordinal_encoder = OrdinalEncoder(dtype=int)\n",
    "label_encoder = LabelEncoder()\n",
    "\n",
    "X_cat = X.iloc[:,np.where(X.dtypes == 'category')[0]]\n",
    "\n",
    "X_enc_cat = ordinal_encoder.fit_transform(X_cat)\n",
    "X_enc = copy(X)\n",
    "X_enc.iloc[:,np.where(X.dtypes == 'category')[0]] = X_enc_cat\n",
    "y_enc = label_encoder.fit_transform(y)\n",
    "\n",
    "X_train, X_test, y_train, y_test = train_test_split(X,y,test_size=0.2, random_state=1)\n",
    "X_train_enc, X_test_enc, y_train_enc, y_test_enc = train_test_split(X_enc,y_enc,test_size=0.2, random_state=1)"
   ]
  },
  {
   "cell_type": "code",
   "execution_count": 23,
   "metadata": {
    "pycharm": {
     "name": "#%%\n"
    }
   },
   "outputs": [],
   "source": [
    "scoring = {'accuracy': make_scorer(accuracy_score)}\n",
    "\n",
    "parameters = {\n",
    "    \"learning_rate\": [0.05, 0.1, 0.2, 0.5],\n",
    "    \"max_depth\":[3,4,5],\n",
    "    \"n_estimators\": [100,200,300,400,500]\n",
    "}\n",
    "\n",
    "gbc_gs = GridSearchCV(GradientBoostingClassifier(), parameters,scoring=scoring,refit=False,cv=5, n_jobs=-1)\n",
    "\n",
    "gbc_gs.fit(X_train_enc, y_train_enc)\n",
    "gbc_df = pd.DataFrame.from_dict(gbc_gs.cv_results_)"
   ]
  },
  {
   "cell_type": "code",
   "execution_count": 24,
   "metadata": {},
   "outputs": [],
   "source": [
    "def get_best_params(cf_results_df):\n",
    "    max_ind = cf_results_df['mean_test_accuracy'].argmax()\n",
    "    thresh = cf_results_df['mean_test_accuracy'][max_ind] - cf_results_df['std_test_accuracy'][max_ind]\n",
    "    min_ind = cf_results_df[cf_results_df['mean_test_accuracy'] >= thresh]['mean_fit_time'].argmin()\n",
    "    return cf_results_df['params'][min_ind]"
   ]
  },
  {
   "cell_type": "code",
   "execution_count": 25,
   "metadata": {},
   "outputs": [
    {
     "data": {
      "text/plain": "{'learning_rate': 0.2, 'max_depth': 3, 'n_estimators': 300}"
     },
     "execution_count": 25,
     "metadata": {},
     "output_type": "execute_result"
    }
   ],
   "source": [
    "get_best_params(gbc_df)"
   ]
  },
  {
   "cell_type": "code",
   "execution_count": 26,
   "metadata": {
    "pycharm": {
     "name": "#%%\n"
    }
   },
   "outputs": [
    {
     "name": "stdout",
     "output_type": "stream",
     "text": [
      "Fitting time:  3.7940125465393066\n"
     ]
    }
   ],
   "source": [
    "start = time()\n",
    "gbc = GradientBoostingClassifier(learning_rate=0.2,max_depth=3,n_estimators=100)\n",
    "gbc.fit(X_train_enc,y_train_enc)\n",
    "end = time()\n",
    "print(\"Fitting time: \",end-start)"
   ]
  },
  {
   "cell_type": "code",
   "execution_count": 27,
   "metadata": {},
   "outputs": [],
   "source": [
    "def evaluate_model(model,X_test,y_test,verbose=True):\n",
    "    y_pred = model.predict(X_test)\n",
    "    label_encoder = LabelEncoder()\n",
    "    y_test_f1, y_pred_f1 = label_encoder.fit_transform(y_test), label_encoder.fit_transform(y_pred)\n",
    "\n",
    "    if verbose:\n",
    "        plot_roc_curve(model,X_test,y_test)\n",
    "        plot_confusion_matrix(model, X_test, y_test,normalize='true')\n",
    "\n",
    "    return accuracy_score(y_test,y_pred), f1_score(y_test_f1,y_pred_f1)"
   ]
  },
  {
   "cell_type": "code",
   "execution_count": 28,
   "metadata": {
    "scrolled": false
   },
   "outputs": [
    {
     "data": {
      "text/plain": "(0.8692803767018119, 0.6994586961638033)"
     },
     "execution_count": 28,
     "metadata": {},
     "output_type": "execute_result"
    },
    {
     "data": {
      "text/plain": "<Figure size 432x288 with 1 Axes>",
      "image/png": "[encoded data removed]"
     },
     "metadata": {
      "needs_background": "light"
     },
     "output_type": "display_data"
    },
    {
     "data": {
      "text/plain": "<Figure size 432x288 with 2 Axes>",
      "image/png": "[encoded data removed]"
     },
     "metadata": {
      "needs_background": "light"
     },
     "output_type": "display_data"
    }
   ],
   "source": [
    "evaluate_model(gbc,X_test_enc,y_test_enc)"
   ]
  },
  {
   "cell_type": "code",
   "execution_count": 29,
   "metadata": {
    "pycharm": {
     "name": "#%%\n"
    }
   },
   "outputs": [],
   "source": [
    "import catboost as cb"
   ]
  },
  {
   "cell_type": "code",
   "execution_count": 30,
   "outputs": [],
   "source": [
    "cat_features_indices = np.where(X_train.dtypes == 'category')[0]"
   ],
   "metadata": {
    "collapsed": false,
    "pycharm": {
     "name": "#%%\n"
    }
   }
  },
  {
   "cell_type": "code",
   "execution_count": 31,
   "metadata": {
    "pycharm": {
     "name": "#%%\n"
    }
   },
   "outputs": [],
   "source": [
    "cbc = cb.CatBoostClassifier(logging_level='Silent',eval_metric = 'Accuracy',cat_features=cat_features_indices)\n",
    "\n",
    "scoring = {'accuracy': make_scorer(accuracy_score)}\n",
    "\n",
    "parameters = {\n",
    "    \"max_depth\":[2,3,4,5,6,7,8],\n",
    "    \"n_estimators\": [100,200,300,400,500]\n",
    "}\n",
    "cbc_gs = GridSearchCV(cbc, parameters,scoring=scoring,refit=False,cv=5, n_jobs=-1)\n",
    "\n",
    "cbc_gs.fit(X_train, y_train)\n",
    "cbc_df=pd.DataFrame.from_dict(cbc_gs.cv_results_)"
   ]
  },
  {
   "cell_type": "code",
   "execution_count": 32,
   "metadata": {},
   "outputs": [
    {
     "data": {
      "text/plain": "{'max_depth': 2, 'n_estimators': 500}"
     },
     "execution_count": 32,
     "metadata": {},
     "output_type": "execute_result"
    }
   ],
   "source": [
    "get_best_params(cbc_df)"
   ]
  },
  {
   "cell_type": "code",
   "execution_count": 33,
   "metadata": {
    "pycharm": {
     "name": "#%%\n"
    }
   },
   "outputs": [
    {
     "name": "stdout",
     "output_type": "stream",
     "text": [
      "Fitting time:  10.267954349517822\n"
     ]
    }
   ],
   "source": [
    "train_dataset = cb.Pool(X_train,y_train,cat_features=cat_features_indices)\n",
    "test_dataset = cb.Pool(X_test,y_test,cat_features=cat_features_indices)\n",
    "\n",
    "start = time()\n",
    "cbc = cb.CatBoostClassifier(logging_level='Silent',\n",
    "                              cat_features=cat_features_indices,\n",
    "                              depth=2,\n",
    "                              iterations=500,\n",
    "                              eval_metric='Accuracy'\n",
    "                              )\n",
    "cbc.fit(train_dataset,eval_set=test_dataset,plot=False)\n",
    "end = time()\n",
    "print(\"Fitting time: \",end-start)"
   ]
  },
  {
   "cell_type": "code",
   "execution_count": 34,
   "metadata": {
    "pycharm": {
     "name": "#%%\n"
    }
   },
   "outputs": [
    {
     "data": {
      "text/plain": "(0.8714300337803256, 0.7044705882352942)"
     },
     "execution_count": 34,
     "metadata": {},
     "output_type": "execute_result"
    },
    {
     "data": {
      "text/plain": "<Figure size 432x288 with 1 Axes>",
      "image/png": "[encoded data removed]"
     },
     "metadata": {
      "needs_background": "light"
     },
     "output_type": "display_data"
    },
    {
     "data": {
      "text/plain": "<Figure size 432x288 with 2 Axes>",
      "image/png": "[encoded data removed]"
     },
     "metadata": {
      "needs_background": "light"
     },
     "output_type": "display_data"
    }
   ],
   "source": [
    "evaluate_model(cbc,X_test,y_test)"
   ]
  },
  {
   "cell_type": "code",
   "execution_count": 35,
   "outputs": [],
   "source": [
    "bin_df = copy(df)\n",
    "bin_df.loc[bin_df['native-country'] != 'United-States', 'native-country'] = 'Other'"
   ],
   "metadata": {
    "collapsed": false,
    "pycharm": {
     "name": "#%%\n"
    }
   }
  },
  {
   "cell_type": "code",
   "execution_count": 36,
   "outputs": [
    {
     "data": {
      "text/plain": "       age         workclass  fnlwgt  education      marital-status  \\\n0       39         State-gov   77516  Bachelors       Never-married   \n1       50  Self-emp-not-inc   83311  Bachelors  Married-civ-spouse   \n2       38           Private  215646    HS-grad            Divorced   \n3       53           Private  234721       11th  Married-civ-spouse   \n4       28           Private  338409  Bachelors  Married-civ-spouse   \n...    ...               ...     ...        ...                 ...   \n48837   39           Private  215419  Bachelors            Divorced   \n48838   64             Other  321403    HS-grad             Widowed   \n48839   38           Private  374983  Bachelors  Married-civ-spouse   \n48840   44           Private   83891  Bachelors            Divorced   \n48841   35      Self-emp-inc  182148  Bachelors  Married-civ-spouse   \n\n              occupation    relationship                race     sex  \\\n0           Adm-clerical   Not-in-family               White    Male   \n1        Exec-managerial         Husband               White    Male   \n2      Handlers-cleaners   Not-in-family               White    Male   \n3      Handlers-cleaners         Husband               Black    Male   \n4         Prof-specialty            Wife               Black  Female   \n...                  ...             ...                 ...     ...   \n48837     Prof-specialty   Not-in-family               White  Female   \n48838              Other  Other-relative               Black    Male   \n48839     Prof-specialty         Husband               White    Male   \n48840       Adm-clerical       Own-child  Asian-Pac-Islander    Male   \n48841    Exec-managerial         Husband               White    Male   \n\n       hours-per-week native-country  capital income  \n0                  40  United-States     2174  <=50K  \n1                  13  United-States        0  <=50K  \n2                  40  United-States        0  <=50K  \n3                  40  United-States        0  <=50K  \n4                  40          Other        0  <=50K  \n...               ...            ...      ...    ...  \n48837              36  United-States        0  <=50K  \n48838              40  United-States        0  <=50K  \n48839              50  United-States        0  <=50K  \n48840              40  United-States     5455  <=50K  \n48841              60  United-States        0   >50K  \n\n[48842 rows x 13 columns]",
      "text/html": "<div>\n<style scoped>\n    .dataframe tbody tr th:only-of-type {\n        vertical-align: middle;\n    }\n\n    .dataframe tbody tr th {\n        vertical-align: top;\n    }\n\n    .dataframe thead th {\n        text-align: right;\n    }\n</style>\n<table border=\"1\" class=\"dataframe\">\n  <thead>\n    <tr style=\"text-align: right;\">\n      <th></th>\n      <th>age</th>\n      <th>workclass</th>\n      <th>fnlwgt</th>\n      <th>education</th>\n      <th>marital-status</th>\n      <th>occupation</th>\n      <th>relationship</th>\n      <th>race</th>\n      <th>sex</th>\n      <th>hours-per-week</th>\n      <th>native-country</th>\n      <th>capital</th>\n      <th>income</th>\n    </tr>\n  </thead>\n  <tbody>\n    <tr>\n      <th>0</th>\n      <td>39</td>\n      <td>State-gov</td>\n      <td>77516</td>\n      <td>Bachelors</td>\n      <td>Never-married</td>\n      <td>Adm-clerical</td>\n      <td>Not-in-family</td>\n      <td>White</td>\n      <td>Male</td>\n      <td>40</td>\n      <td>United-States</td>\n      <td>2174</td>\n      <td>&lt;=50K</td>\n    </tr>\n    <tr>\n      <th>1</th>\n      <td>50</td>\n      <td>Self-emp-not-inc</td>\n      <td>83311</td>\n      <td>Bachelors</td>\n      <td>Married-civ-spouse</td>\n      <td>Exec-managerial</td>\n      <td>Husband</td>\n      <td>White</td>\n      <td>Male</td>\n      <td>13</td>\n      <td>United-States</td>\n      <td>0</td>\n      <td>&lt;=50K</td>\n    </tr>\n    <tr>\n      <th>2</th>\n      <td>38</td>\n      <td>Private</td>\n      <td>215646</td>\n      <td>HS-grad</td>\n      <td>Divorced</td>\n      <td>Handlers-cleaners</td>\n      <td>Not-in-family</td>\n      <td>White</td>\n      <td>Male</td>\n      <td>40</td>\n      <td>United-States</td>\n      <td>0</td>\n      <td>&lt;=50K</td>\n    </tr>\n    <tr>\n      <th>3</th>\n      <td>53</td>\n      <td>Private</td>\n      <td>234721</td>\n      <td>11th</td>\n      <td>Married-civ-spouse</td>\n      <td>Handlers-cleaners</td>\n      <td>Husband</td>\n      <td>Black</td>\n      <td>Male</td>\n      <td>40</td>\n      <td>United-States</td>\n      <td>0</td>\n      <td>&lt;=50K</td>\n    </tr>\n    <tr>\n      <th>4</th>\n      <td>28</td>\n      <td>Private</td>\n      <td>338409</td>\n      <td>Bachelors</td>\n      <td>Married-civ-spouse</td>\n      <td>Prof-specialty</td>\n      <td>Wife</td>\n      <td>Black</td>\n      <td>Female</td>\n      <td>40</td>\n      <td>Other</td>\n      <td>0</td>\n      <td>&lt;=50K</td>\n    </tr>\n    <tr>\n      <th>...</th>\n      <td>...</td>\n      <td>...</td>\n      <td>...</td>\n      <td>...</td>\n      <td>...</td>\n      <td>...</td>\n      <td>...</td>\n      <td>...</td>\n      <td>...</td>\n      <td>...</td>\n      <td>...</td>\n      <td>...</td>\n      <td>...</td>\n    </tr>\n    <tr>\n      <th>48837</th>\n      <td>39</td>\n      <td>Private</td>\n      <td>215419</td>\n      <td>Bachelors</td>\n      <td>Divorced</td>\n      <td>Prof-specialty</td>\n      <td>Not-in-family</td>\n      <td>White</td>\n      <td>Female</td>\n      <td>36</td>\n      <td>United-States</td>\n      <td>0</td>\n      <td>&lt;=50K</td>\n    </tr>\n    <tr>\n      <th>48838</th>\n      <td>64</td>\n      <td>Other</td>\n      <td>321403</td>\n      <td>HS-grad</td>\n      <td>Widowed</td>\n      <td>Other</td>\n      <td>Other-relative</td>\n      <td>Black</td>\n      <td>Male</td>\n      <td>40</td>\n      <td>United-States</td>\n      <td>0</td>\n      <td>&lt;=50K</td>\n    </tr>\n    <tr>\n      <th>48839</th>\n      <td>38</td>\n      <td>Private</td>\n      <td>374983</td>\n      <td>Bachelors</td>\n      <td>Married-civ-spouse</td>\n      <td>Prof-specialty</td>\n      <td>Husband</td>\n      <td>White</td>\n      <td>Male</td>\n      <td>50</td>\n      <td>United-States</td>\n      <td>0</td>\n      <td>&lt;=50K</td>\n    </tr>\n    <tr>\n      <th>48840</th>\n      <td>44</td>\n      <td>Private</td>\n      <td>83891</td>\n      <td>Bachelors</td>\n      <td>Divorced</td>\n      <td>Adm-clerical</td>\n      <td>Own-child</td>\n      <td>Asian-Pac-Islander</td>\n      <td>Male</td>\n      <td>40</td>\n      <td>United-States</td>\n      <td>5455</td>\n      <td>&lt;=50K</td>\n    </tr>\n    <tr>\n      <th>48841</th>\n      <td>35</td>\n      <td>Self-emp-inc</td>\n      <td>182148</td>\n      <td>Bachelors</td>\n      <td>Married-civ-spouse</td>\n      <td>Exec-managerial</td>\n      <td>Husband</td>\n      <td>White</td>\n      <td>Male</td>\n      <td>60</td>\n      <td>United-States</td>\n      <td>0</td>\n      <td>&gt;50K</td>\n    </tr>\n  </tbody>\n</table>\n<p>48842 rows × 13 columns</p>\n</div>"
     },
     "execution_count": 36,
     "metadata": {},
     "output_type": "execute_result"
    }
   ],
   "source": [
    "bin_df"
   ],
   "metadata": {
    "collapsed": false,
    "pycharm": {
     "name": "#%%\n"
    }
   }
  },
  {
   "cell_type": "code",
   "execution_count": 37,
   "outputs": [
    {
     "data": {
      "text/plain": "<BarContainer object of 2 artists>"
     },
     "execution_count": 37,
     "metadata": {},
     "output_type": "execute_result"
    },
    {
     "data": {
      "text/plain": "<Figure size 432x288 with 1 Axes>",
      "image/png": "[encoded data removed]"
     },
     "metadata": {
      "needs_background": "light"
     },
     "output_type": "display_data"
    }
   ],
   "source": [
    "plt.bar(bin_df['native-country'].unique(),bin_df['native-country'].value_counts())"
   ],
   "metadata": {
    "collapsed": false,
    "pycharm": {
     "name": "#%%\n"
    }
   }
  },
  {
   "cell_type": "code",
   "execution_count": 38,
   "outputs": [],
   "source": [
    "def encode_df(df, encode_method):\n",
    "    X = df.iloc[:,:-1]\n",
    "    y = df.iloc[:,-1]\n",
    "\n",
    "    y = LabelEncoder().fit_transform(y)\n",
    "\n",
    "    encoder = encode_method(cols=X.iloc[:,np.where(X.dtypes == object)[0]].columns,return_df=True)\n",
    "    X = encoder.fit_transform(X)\n",
    "\n",
    "    return pd.concat((X,pd.Series(y).rename('income')),axis=1)"
   ],
   "metadata": {
    "collapsed": false,
    "pycharm": {
     "name": "#%%\n"
    }
   }
  },
  {
   "cell_type": "code",
   "execution_count": 39,
   "outputs": [],
   "source": [
    "def compare_encoding(name_list,df_list,encode_list,iters=10):\n",
    "    out = pd.DataFrame(columns=[\"name\",\"mean_time\",\"std-time\",\"accuracy\",\"f1_score\"])\n",
    "    for i, name in enumerate(name_list):\n",
    "        times = []\n",
    "        for j in range(iters):\n",
    "            df = encode_df(df_list[i],encode_list[i])\n",
    "            X_train, X_test, y_train, y_test = train_test_split(df.iloc[:,:-1],df.iloc[:,-1],test_size=0.2, random_state=1)\n",
    "            start = time()\n",
    "            gbc = GradientBoostingClassifier(learning_rate=0.2,max_depth=3,n_estimators=100)\n",
    "            gbc.fit(X_train,y_train)\n",
    "            end = time()\n",
    "            times.append(end-start)\n",
    "\n",
    "            acc, f1 = evaluate_model(gbc,X_test,y_test,verbose=False)\n",
    "\n",
    "        mean_time = np.mean(times)\n",
    "        std_time = np.std(times)\n",
    "        out.loc[i] = [name,mean_time,std_time,acc,f1]\n",
    "\n",
    "    return out"
   ],
   "metadata": {
    "collapsed": false,
    "pycharm": {
     "name": "#%%\n"
    }
   }
  },
  {
   "cell_type": "code",
   "execution_count": 40,
   "outputs": [
    {
     "data": {
      "text/plain": "            name  mean_time  std-time  accuracy  f1_score\n0         OneHot   7.962132  0.074630  0.870304  0.697107\n1        Ordinal   3.671192  0.019179  0.869178  0.693231\n2   BinaryOneHot   6.049944  0.026046  0.870509  0.697585\n3  BinaryOrdinal   3.608442  0.030032  0.869383  0.694005",
      "text/html": "<div>\n<style scoped>\n    .dataframe tbody tr th:only-of-type {\n        vertical-align: middle;\n    }\n\n    .dataframe tbody tr th {\n        vertical-align: top;\n    }\n\n    .dataframe thead th {\n        text-align: right;\n    }\n</style>\n<table border=\"1\" class=\"dataframe\">\n  <thead>\n    <tr style=\"text-align: right;\">\n      <th></th>\n      <th>name</th>\n      <th>mean_time</th>\n      <th>std-time</th>\n      <th>accuracy</th>\n      <th>f1_score</th>\n    </tr>\n  </thead>\n  <tbody>\n    <tr>\n      <th>0</th>\n      <td>OneHot</td>\n      <td>7.962132</td>\n      <td>0.074630</td>\n      <td>0.870304</td>\n      <td>0.697107</td>\n    </tr>\n    <tr>\n      <th>1</th>\n      <td>Ordinal</td>\n      <td>3.671192</td>\n      <td>0.019179</td>\n      <td>0.869178</td>\n      <td>0.693231</td>\n    </tr>\n    <tr>\n      <th>2</th>\n      <td>BinaryOneHot</td>\n      <td>6.049944</td>\n      <td>0.026046</td>\n      <td>0.870509</td>\n      <td>0.697585</td>\n    </tr>\n    <tr>\n      <th>3</th>\n      <td>BinaryOrdinal</td>\n      <td>3.608442</td>\n      <td>0.030032</td>\n      <td>0.869383</td>\n      <td>0.694005</td>\n    </tr>\n  </tbody>\n</table>\n</div>"
     },
     "execution_count": 40,
     "metadata": {},
     "output_type": "execute_result"
    }
   ],
   "source": [
    "compare_encoding([\"OneHot\",\"Ordinal\",\"BinaryOneHot\",\"BinaryOrdinal\"],\n",
    "                 [df,df,bin_df,bin_df],\n",
    "                 [ce.OneHotEncoder,ce.OrdinalEncoder,ce.OneHotEncoder,ce.OrdinalEncoder])"
   ],
   "metadata": {
    "collapsed": false,
    "pycharm": {
     "name": "#%%\n"
    }
   }
  },
  {
   "cell_type": "code",
   "execution_count": 41,
   "outputs": [],
   "source": [
    "import pickle\n",
    "\n",
    "pickle.dump(gbc, open(\"./models/gbc.dat\", \"wb\"))\n",
    "pickle.dump(cbc, open(\"./models/cbc.dat\", \"wb\"))"
   ],
   "metadata": {
    "collapsed": false,
    "pycharm": {
     "name": "#%%\n"
    }
   }
  },
  {
   "cell_type": "code",
   "execution_count": 42,
   "outputs": [],
   "source": [
    "gbc = pickle.load(open(\"./models/gbc.dat\", \"rb\"))"
   ],
   "metadata": {
    "collapsed": false,
    "pycharm": {
     "name": "#%%\n"
    }
   }
  },
  {
   "cell_type": "code",
   "execution_count": 42,
   "outputs": [],
   "source": [],
   "metadata": {
    "collapsed": false,
    "pycharm": {
     "name": "#%%\n"
    }
   }
  },
  {
   "cell_type": "code",
   "execution_count": 42,
   "outputs": [],
   "source": [],
   "metadata": {
    "collapsed": false,
    "pycharm": {
     "name": "#%%\n"
    }
   }
  },
  {
   "cell_type": "code",
   "execution_count": 42,
   "outputs": [],
   "source": [],
   "metadata": {
    "collapsed": false,
    "pycharm": {
     "name": "#%%\n"
    }
   }
  },
  {
   "cell_type": "code",
   "execution_count": 42,
   "outputs": [],
   "source": [],
   "metadata": {
    "collapsed": false,
    "pycharm": {
     "name": "#%%\n"
    }
   }
  },
  {
   "cell_type": "code",
   "execution_count": 42,
   "outputs": [],
   "source": [],
   "metadata": {
    "collapsed": false,
    "pycharm": {
     "name": "#%%\n"
    }
   }
  },
  {
   "cell_type": "code",
   "execution_count": null,
   "outputs": [],
   "source": [],
   "metadata": {
    "collapsed": false,
    "pycharm": {
     "name": "#%%\n"
    }
   }
  }
 ],
 "metadata": {
  "kernelspec": {
   "display_name": "Python 3",
   "language": "python",
   "name": "python3"
  },
  "language_info": {
   "codemirror_mode": {
    "name": "ipython",
    "version": 3
   },
   "file_extension": ".py",
   "mimetype": "text/x-python",
   "name": "python",
   "nbconvert_exporter": "python",
   "pygments_lexer": "ipython3",
   "version": "3.8.8"
  }
 },
 "nbformat": 4,
 "nbformat_minor": 1
}